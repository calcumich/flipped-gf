{
 "cells": [
  {
   "cell_type": "markdown",
   "id": "27c76268",
   "metadata": {},
   "source": [
    "Note: this notebook should probably be placed in glance and focus dataset directory (i.e. Glance-Focus\\dataset)"
   ]
  },
  {
   "cell_type": "code",
   "execution_count": 2,
   "id": "8d00d884-cc2f-4479-9d55-bffb17cdc318",
   "metadata": {},
   "outputs": [
    {
     "name": "stderr",
     "output_type": "stream",
     "text": [
      "'ls' is not recognized as an internal or external command,\n",
      "operable program or batch file.\n"
     ]
    }
   ],
   "source": [
    "!ls"
   ]
  },
  {
   "cell_type": "code",
   "execution_count": 3,
   "id": "88b0f080-ba3c-4fa6-852e-e7538c37a7b7",
   "metadata": {},
   "outputs": [
    {
     "name": "stderr",
     "output_type": "stream",
     "text": [
      "'ls' is not recognized as an internal or external command,\n",
      "operable program or batch file.\n"
     ]
    }
   ],
   "source": [
    "!ls txt_db"
   ]
  },
  {
   "cell_type": "code",
   "execution_count": 4,
   "id": "429ca398-9ea7-45ba-9e8c-30458094f532",
   "metadata": {},
   "outputs": [
    {
     "name": "stderr",
     "output_type": "stream",
     "text": [
      "'ls' is not recognized as an internal or external command,\n",
      "operable program or batch file.\n"
     ]
    }
   ],
   "source": [
    "!ls vis_db"
   ]
  },
  {
   "cell_type": "code",
   "execution_count": 5,
   "id": "2444f243-9bcf-4072-b13f-e3c7a4c70b63",
   "metadata": {},
   "outputs": [
    {
     "name": "stderr",
     "output_type": "stream",
     "text": [
      "'head' is not recognized as an internal or external command,\n",
      "operable program or batch file.\n"
     ]
    }
   ],
   "source": [
    "!head vis_db/strID2numID.json\n"
   ]
  },
  {
   "cell_type": "code",
   "execution_count": 6,
   "id": "6b8de0b4-5a7b-48a0-a38c-9487e888c1e7",
   "metadata": {},
   "outputs": [],
   "source": [
    "filepath = \"txt_db/train.jsonl\""
   ]
  },
  {
   "cell_type": "code",
   "execution_count": 7,
   "id": "038b613f-e318-48dd-b481-37136e9b9b73",
   "metadata": {},
   "outputs": [],
   "source": [
    "import pandas as pd\n",
    "import json\n",
    "import matplotlib.pyplot as plt\n"
   ]
  },
  {
   "cell_type": "code",
   "execution_count": 8,
   "id": "63e60957-f529-4381-a4eb-6ea104664562",
   "metadata": {},
   "outputs": [
    {
     "ename": "ValueError",
     "evalue": "The python kernel does not appear to be a conda environment.  Please use ``%pip install`` instead.",
     "output_type": "error",
     "traceback": [
      "\u001b[1;31m---------------------------------------------------------------------------\u001b[0m",
      "\u001b[1;31mValueError\u001b[0m                                Traceback (most recent call last)",
      "Cell \u001b[1;32mIn[8], line 1\u001b[0m\n\u001b[1;32m----> 1\u001b[0m \u001b[43mget_ipython\u001b[49m\u001b[43m(\u001b[49m\u001b[43m)\u001b[49m\u001b[38;5;241;43m.\u001b[39;49m\u001b[43mrun_line_magic\u001b[49m\u001b[43m(\u001b[49m\u001b[38;5;124;43m'\u001b[39;49m\u001b[38;5;124;43mconda\u001b[39;49m\u001b[38;5;124;43m'\u001b[39;49m\u001b[43m,\u001b[49m\u001b[43m \u001b[49m\u001b[38;5;124;43m'\u001b[39;49m\u001b[38;5;124;43minstall pandas -y\u001b[39;49m\u001b[38;5;124;43m'\u001b[39;49m\u001b[43m)\u001b[49m\n",
      "File \u001b[1;32m~\\AppData\\Local\\Packages\\PythonSoftwareFoundation.Python.3.10_qbz5n2kfra8p0\\LocalCache\\local-packages\\Python310\\site-packages\\IPython\\core\\interactiveshell.py:2414\u001b[0m, in \u001b[0;36mInteractiveShell.run_line_magic\u001b[1;34m(self, magic_name, line, _stack_depth)\u001b[0m\n\u001b[0;32m   2412\u001b[0m     kwargs[\u001b[38;5;124m'\u001b[39m\u001b[38;5;124mlocal_ns\u001b[39m\u001b[38;5;124m'\u001b[39m] \u001b[38;5;241m=\u001b[39m \u001b[38;5;28mself\u001b[39m\u001b[38;5;241m.\u001b[39mget_local_scope(stack_depth)\n\u001b[0;32m   2413\u001b[0m \u001b[38;5;28;01mwith\u001b[39;00m \u001b[38;5;28mself\u001b[39m\u001b[38;5;241m.\u001b[39mbuiltin_trap:\n\u001b[1;32m-> 2414\u001b[0m     result \u001b[38;5;241m=\u001b[39m fn(\u001b[38;5;241m*\u001b[39margs, \u001b[38;5;241m*\u001b[39m\u001b[38;5;241m*\u001b[39mkwargs)\n\u001b[0;32m   2416\u001b[0m \u001b[38;5;66;03m# The code below prevents the output from being displayed\u001b[39;00m\n\u001b[0;32m   2417\u001b[0m \u001b[38;5;66;03m# when using magics with decodator @output_can_be_silenced\u001b[39;00m\n\u001b[0;32m   2418\u001b[0m \u001b[38;5;66;03m# when the last Python token in the expression is a ';'.\u001b[39;00m\n\u001b[0;32m   2419\u001b[0m \u001b[38;5;28;01mif\u001b[39;00m \u001b[38;5;28mgetattr\u001b[39m(fn, magic\u001b[38;5;241m.\u001b[39mMAGIC_OUTPUT_CAN_BE_SILENCED, \u001b[38;5;28;01mFalse\u001b[39;00m):\n",
      "File \u001b[1;32m~\\AppData\\Local\\Packages\\PythonSoftwareFoundation.Python.3.10_qbz5n2kfra8p0\\LocalCache\\local-packages\\Python310\\site-packages\\IPython\\core\\magics\\packaging.py:87\u001b[0m, in \u001b[0;36mPackagingMagics.conda\u001b[1;34m(self, line)\u001b[0m\n\u001b[0;32m     81\u001b[0m \u001b[38;5;250m\u001b[39m\u001b[38;5;124;03m\"\"\"Run the conda package manager within the current kernel.\u001b[39;00m\n\u001b[0;32m     82\u001b[0m \n\u001b[0;32m     83\u001b[0m \u001b[38;5;124;03mUsage:\u001b[39;00m\n\u001b[0;32m     84\u001b[0m \u001b[38;5;124;03m  %conda install [pkgs]\u001b[39;00m\n\u001b[0;32m     85\u001b[0m \u001b[38;5;124;03m\"\"\"\u001b[39;00m\n\u001b[0;32m     86\u001b[0m \u001b[38;5;28;01mif\u001b[39;00m \u001b[38;5;129;01mnot\u001b[39;00m _is_conda_environment():\n\u001b[1;32m---> 87\u001b[0m     \u001b[38;5;28;01mraise\u001b[39;00m \u001b[38;5;167;01mValueError\u001b[39;00m(\u001b[38;5;124m\"\u001b[39m\u001b[38;5;124mThe python kernel does not appear to be a conda environment.  \u001b[39m\u001b[38;5;124m\"\u001b[39m\n\u001b[0;32m     88\u001b[0m                      \u001b[38;5;124m\"\u001b[39m\u001b[38;5;124mPlease use ``\u001b[39m\u001b[38;5;124m%\u001b[39m\u001b[38;5;124mpip install`` instead.\u001b[39m\u001b[38;5;124m\"\u001b[39m)\n\u001b[0;32m     90\u001b[0m conda \u001b[38;5;241m=\u001b[39m _get_conda_executable()\n\u001b[0;32m     91\u001b[0m args \u001b[38;5;241m=\u001b[39m shlex\u001b[38;5;241m.\u001b[39msplit(line)\n",
      "\u001b[1;31mValueError\u001b[0m: The python kernel does not appear to be a conda environment.  Please use ``%pip install`` instead."
     ]
    }
   ],
   "source": [
    "conda install pandas -y"
   ]
  },
  {
   "cell_type": "code",
   "execution_count": 9,
   "id": "e052d7d8-ef11-467d-9a88-ab8604f66f57",
   "metadata": {},
   "outputs": [],
   "source": [
    "import pandas as pd\n",
    "import json\n",
    "import matplotlib.pyplot as plt"
   ]
  },
  {
   "cell_type": "code",
   "execution_count": 10,
   "id": "8fcb6012-07aa-4262-8047-000e63b06273",
   "metadata": {},
   "outputs": [],
   "source": [
    "with open(filepath, 'r') as file:\n",
    "    data = [json.loads(line) for line in file]"
   ]
  },
  {
   "cell_type": "code",
   "execution_count": 11,
   "id": "dbc85920-9834-4919-8349-0db794fefcaf",
   "metadata": {},
   "outputs": [
    {
     "data": {
      "text/plain": [
       "{'question_id': 'Interaction_T1_229',\n",
       " 'question': 'Which object was taken by the person?',\n",
       " 'video_id': '3HLP7',\n",
       " 'options': ['The blanket.',\n",
       "  'The picture.',\n",
       "  'The cup/glass/bottle.',\n",
       "  'The box.'],\n",
       " 'answer': 1}"
      ]
     },
     "execution_count": 11,
     "metadata": {},
     "output_type": "execute_result"
    }
   ],
   "source": [
    "data[100]"
   ]
  },
  {
   "cell_type": "code",
   "execution_count": 12,
   "id": "f2cdbcfd",
   "metadata": {},
   "outputs": [
    {
     "name": "stdout",
     "output_type": "stream",
     "text": [
      "question_id                                     Feasibility_T2_861\n",
      "question         What else is the person able to do with the dish?\n",
      "video_id                                                     UX8NQ\n",
      "options          [Put down the dish., Lie on the dish., Take th...\n",
      "answer                                                           0\n",
      "question_type                                          Feasibility\n",
      "Name: 500, dtype: object\n"
     ]
    }
   ],
   "source": [
    "import random\n",
    "\n",
    "df = pd.DataFrame(data)\n",
    "\n",
    "df['question_type'] = df['question_id'].apply(lambda x: x.split('_')[0])\n",
    "df.sort_values(by=['question_type', 'question_id'], inplace=True)\n",
    "df.reset_index(drop=True, inplace=True)\n",
    "\n",
    "def get_a_rando(myArg):\n",
    "    if myArg not in [0, 1, 2, 3]:\n",
    "        raise ValueError(\"Invalid argument. myArg must be 0, 1, 2, or 3.\")\n",
    "    \n",
    "    indices = [0] + df[df['question_type'] == 'Interaction'].index.tolist() + [len(df)]\n",
    "    \n",
    "    start_idx = indices[myArg]\n",
    "    end_idx = indices[myArg + 1]\n",
    "    random_idx = random.randint(start_idx, end_idx - 1)\n",
    "    random_question = df.iloc[random_idx]\n",
    "    \n",
    "    return random_question\n",
    "\n",
    "random_question = get_a_rando(0)\n",
    "print(random_question)"
   ]
  },
  {
   "cell_type": "code",
   "execution_count": 13,
   "id": "9f41813c",
   "metadata": {},
   "outputs": [
    {
     "data": {
      "text/html": [
       "<div>\n",
       "<style scoped>\n",
       "    .dataframe tbody tr th:only-of-type {\n",
       "        vertical-align: middle;\n",
       "    }\n",
       "\n",
       "    .dataframe tbody tr th {\n",
       "        vertical-align: top;\n",
       "    }\n",
       "\n",
       "    .dataframe thead th {\n",
       "        text-align: right;\n",
       "    }\n",
       "</style>\n",
       "<table border=\"1\" class=\"dataframe\">\n",
       "  <thead>\n",
       "    <tr style=\"text-align: right;\">\n",
       "      <th></th>\n",
       "      <th>question_id</th>\n",
       "      <th>question</th>\n",
       "      <th>video_id</th>\n",
       "      <th>options</th>\n",
       "      <th>answer</th>\n",
       "      <th>question_type</th>\n",
       "    </tr>\n",
       "  </thead>\n",
       "  <tbody>\n",
       "    <tr>\n",
       "      <th>0</th>\n",
       "      <td>Feasibility_T2_1000</td>\n",
       "      <td>What else is the person able to do with the to...</td>\n",
       "      <td>VD0H8</td>\n",
       "      <td>[Put down the towel., Take the towel., Throw t...</td>\n",
       "      <td>2</td>\n",
       "      <td>Feasibility</td>\n",
       "    </tr>\n",
       "    <tr>\n",
       "      <th>1</th>\n",
       "      <td>Feasibility_T2_1001</td>\n",
       "      <td>What else is the person able to do with the door?</td>\n",
       "      <td>5KOTU</td>\n",
       "      <td>[Close the door., Take the door., Put down the...</td>\n",
       "      <td>0</td>\n",
       "      <td>Feasibility</td>\n",
       "    </tr>\n",
       "    <tr>\n",
       "      <th>2</th>\n",
       "      <td>Feasibility_T2_1002</td>\n",
       "      <td>What else is the person able to do with the cl...</td>\n",
       "      <td>5KOTU</td>\n",
       "      <td>[Close the closet/cabinet., Tidy up the closet...</td>\n",
       "      <td>0</td>\n",
       "      <td>Feasibility</td>\n",
       "    </tr>\n",
       "    <tr>\n",
       "      <th>3</th>\n",
       "      <td>Feasibility_T2_1004</td>\n",
       "      <td>What else is the person able to do with the bl...</td>\n",
       "      <td>56PK0</td>\n",
       "      <td>[Put down the blanket., Eat the blanket., Tidy...</td>\n",
       "      <td>0</td>\n",
       "      <td>Feasibility</td>\n",
       "    </tr>\n",
       "    <tr>\n",
       "      <th>4</th>\n",
       "      <td>Feasibility_T2_1005</td>\n",
       "      <td>What else is the person able to do with the bl...</td>\n",
       "      <td>56PK0</td>\n",
       "      <td>[Put down the blanket., Throw the blanket., Ta...</td>\n",
       "      <td>0</td>\n",
       "      <td>Feasibility</td>\n",
       "    </tr>\n",
       "    <tr>\n",
       "      <th>...</th>\n",
       "      <td>...</td>\n",
       "      <td>...</td>\n",
       "      <td>...</td>\n",
       "      <td>...</td>\n",
       "      <td>...</td>\n",
       "      <td>...</td>\n",
       "    </tr>\n",
       "    <tr>\n",
       "      <th>45726</th>\n",
       "      <td>Sequence_T6_995</td>\n",
       "      <td>What did the person do to the bed before takin...</td>\n",
       "      <td>EG0VZ</td>\n",
       "      <td>[Put down., Sat on., Ate., Lied on.]</td>\n",
       "      <td>1</td>\n",
       "      <td>Sequence</td>\n",
       "    </tr>\n",
       "    <tr>\n",
       "      <th>45727</th>\n",
       "      <td>Sequence_T6_996</td>\n",
       "      <td>What did the person do to the dish before hold...</td>\n",
       "      <td>BM9NZ</td>\n",
       "      <td>[Took., Opened., Washed., Put down.]</td>\n",
       "      <td>0</td>\n",
       "      <td>Sequence</td>\n",
       "    </tr>\n",
       "    <tr>\n",
       "      <th>45728</th>\n",
       "      <td>Sequence_T6_997</td>\n",
       "      <td>What did the person do to the pillow before ta...</td>\n",
       "      <td>BM9NZ</td>\n",
       "      <td>[Put down., Ate., Lied on., Threw.]</td>\n",
       "      <td>3</td>\n",
       "      <td>Sequence</td>\n",
       "    </tr>\n",
       "    <tr>\n",
       "      <th>45729</th>\n",
       "      <td>Sequence_T6_998</td>\n",
       "      <td>What did the person do to the clothes before t...</td>\n",
       "      <td>MZ3I3</td>\n",
       "      <td>[Put down., Sat on., Tidied up., Closed.]</td>\n",
       "      <td>0</td>\n",
       "      <td>Sequence</td>\n",
       "    </tr>\n",
       "    <tr>\n",
       "      <th>45730</th>\n",
       "      <td>Sequence_T6_999</td>\n",
       "      <td>What did the person do to the phone/camera bef...</td>\n",
       "      <td>MZ3I3</td>\n",
       "      <td>[Took., Lied on., Sat at., Put down.]</td>\n",
       "      <td>3</td>\n",
       "      <td>Sequence</td>\n",
       "    </tr>\n",
       "  </tbody>\n",
       "</table>\n",
       "<p>45731 rows × 6 columns</p>\n",
       "</div>"
      ],
      "text/plain": [
       "               question_id                                           question   \n",
       "0      Feasibility_T2_1000  What else is the person able to do with the to...  \\\n",
       "1      Feasibility_T2_1001  What else is the person able to do with the door?   \n",
       "2      Feasibility_T2_1002  What else is the person able to do with the cl...   \n",
       "3      Feasibility_T2_1004  What else is the person able to do with the bl...   \n",
       "4      Feasibility_T2_1005  What else is the person able to do with the bl...   \n",
       "...                    ...                                                ...   \n",
       "45726      Sequence_T6_995  What did the person do to the bed before takin...   \n",
       "45727      Sequence_T6_996  What did the person do to the dish before hold...   \n",
       "45728      Sequence_T6_997  What did the person do to the pillow before ta...   \n",
       "45729      Sequence_T6_998  What did the person do to the clothes before t...   \n",
       "45730      Sequence_T6_999  What did the person do to the phone/camera bef...   \n",
       "\n",
       "      video_id                                            options  answer   \n",
       "0        VD0H8  [Put down the towel., Take the towel., Throw t...       2  \\\n",
       "1        5KOTU  [Close the door., Take the door., Put down the...       0   \n",
       "2        5KOTU  [Close the closet/cabinet., Tidy up the closet...       0   \n",
       "3        56PK0  [Put down the blanket., Eat the blanket., Tidy...       0   \n",
       "4        56PK0  [Put down the blanket., Throw the blanket., Ta...       0   \n",
       "...        ...                                                ...     ...   \n",
       "45726    EG0VZ               [Put down., Sat on., Ate., Lied on.]       1   \n",
       "45727    BM9NZ               [Took., Opened., Washed., Put down.]       0   \n",
       "45728    BM9NZ                [Put down., Ate., Lied on., Threw.]       3   \n",
       "45729    MZ3I3          [Put down., Sat on., Tidied up., Closed.]       0   \n",
       "45730    MZ3I3              [Took., Lied on., Sat at., Put down.]       3   \n",
       "\n",
       "      question_type  \n",
       "0       Feasibility  \n",
       "1       Feasibility  \n",
       "2       Feasibility  \n",
       "3       Feasibility  \n",
       "4       Feasibility  \n",
       "...             ...  \n",
       "45726      Sequence  \n",
       "45727      Sequence  \n",
       "45728      Sequence  \n",
       "45729      Sequence  \n",
       "45730      Sequence  \n",
       "\n",
       "[45731 rows x 6 columns]"
      ]
     },
     "execution_count": 13,
     "metadata": {},
     "output_type": "execute_result"
    }
   ],
   "source": [
    "df"
   ]
  },
  {
   "cell_type": "code",
   "execution_count": null,
   "id": "11925328",
   "metadata": {},
   "outputs": [],
   "source": [
    "df = df.sort_values(by='question_id').reset_index(drop=True)\n",
    "\n",
    "def get_question_type_indices(df):\n",
    "    unique_types = df['question_id'].str.extract(r'^(\\w+)')[0].unique()\n",
    "    type_indices = {typ: df[df['question_id'].str.startswith(typ)].index.tolist() for typ in unique_types}\n",
    "    return type_indices\n",
    "\n",
    "indices = get_question_type_indices(df)\n",
    "\n",
    "def get_a_question(myArg):\n",
    "    question_types = list(indices.keys())\n",
    "    if myArg < 0 or myArg >= len(question_types):\n",
    "        return \"Invalid input. Please enter a number between 0 and {}.\".format(len(question_types) - 1)\n",
    "    selected_type = question_types[myArg]\n",
    "    question_pool = indices[selected_type]\n",
    "    random_index = np.random.choice(question_pool)\n",
    "    return df.iloc[random_index]\n",
    "\n",
    "print(get_a_question(0))  \n",
    "print(get_a_question(1))  \n",
    "print(get_a_question(2))  \n",
    "print(get_a_question(3)) "
   ]
  },
  {
   "cell_type": "code",
   "execution_count": null,
   "id": "f2895092",
   "metadata": {},
   "outputs": [],
   "source": [
    "df"
   ]
  },
  {
   "cell_type": "code",
   "execution_count": null,
   "id": "3d9ee0bb",
   "metadata": {},
   "outputs": [],
   "source": [
    "random_question.question"
   ]
  },
  {
   "cell_type": "code",
   "execution_count": null,
   "id": "9d646482",
   "metadata": {},
   "outputs": [],
   "source": []
  },
  {
   "cell_type": "code",
   "execution_count": null,
   "id": "ec3d38bd",
   "metadata": {},
   "outputs": [],
   "source": [
    "for x in [a,b,c]:\n",
    "    print(x.question)\n",
    "    print(x.question_id)"
   ]
  },
  {
   "cell_type": "code",
   "execution_count": null,
   "id": "140f9f26-cd7b-4557-a0bd-df608c5cc0b4",
   "metadata": {},
   "outputs": [],
   "source": [
    "df_questions = pd.json_normalize(data, sep='_')\n",
    "df_choices = pd.json_normalize(data, record_path='choices', meta=['question_id'], record_prefix='choice_')\n",
    "\n",
    "print(df_questions.describe())\n",
    "print(\"Unique videos:\", df_questions['video_id'].nunique())\n",
    "\n",
    "choice_counts = df_choices['choice_choice'].value_counts()\n",
    "choice_counts.plot(kind='bar')\n",
    "plt.title('Frequency of Choices')\n",
    "plt.xlabel('Choices')\n",
    "plt.ylabel('Count')\n",
    "plt.show()\n",
    "\n",
    "function_usage = pd.json_normalize(data, record_path=['question_program'], meta=['question_id'], record_prefix='prog_')\n",
    "print(function_usage['prog_function'].value_counts())"
   ]
  },
  {
   "cell_type": "code",
   "execution_count": null,
   "id": "f88a3cb5-32b3-48a2-a069-4c39a921c7ae",
   "metadata": {},
   "outputs": [],
   "source": [
    "df_questions = pd.json_normalize(data, sep='_')\n",
    "df_choices = pd.json_normalize(data, record_path='options', meta=['question_id', 'video_id', 'question', 'answer'], record_prefix='option_')"
   ]
  },
  {
   "cell_type": "code",
   "execution_count": null,
   "id": "65d44fdb-fee2-4c88-ad5f-cad25da352a6",
   "metadata": {},
   "outputs": [],
   "source": [
    "df_questions"
   ]
  },
  {
   "cell_type": "code",
   "execution_count": null,
   "id": "eba19ffe-b47b-44a3-8872-de2eea113e87",
   "metadata": {},
   "outputs": [],
   "source": [
    "print(df_questions.info())\n",
    "print(df_questions.head())\n",
    "\n",
    "print(df_choices.info())\n",
    "print(df_choices.head())"
   ]
  },
  {
   "cell_type": "code",
   "execution_count": null,
   "id": "dc5ef389-c344-405e-8e9a-70e6da7c82ce",
   "metadata": {},
   "outputs": [],
   "source": [
    "df_questions['answer'].value_counts().plot(kind='bar')\n",
    "plt.title('Frequency of Answer Indices')\n",
    "plt.xlabel('Answer Index')\n",
    "plt.ylabel('Count')\n",
    "plt.show()"
   ]
  },
  {
   "cell_type": "code",
   "execution_count": null,
   "id": "4fa43369-b973-4861-a056-45bdd74f86b0",
   "metadata": {},
   "outputs": [],
   "source": [
    "#!pip install scikit-learn"
   ]
  },
  {
   "cell_type": "code",
   "execution_count": null,
   "id": "5127a912-40e4-48d8-8f38-1023ce3a4b2b",
   "metadata": {},
   "outputs": [],
   "source": [
    "#!pip install seaborn"
   ]
  },
  {
   "cell_type": "code",
   "execution_count": null,
   "id": "e2bd6413-1b04-4056-975a-086d30fcd878",
   "metadata": {},
   "outputs": [],
   "source": [
    "from sklearn.feature_extraction.text import CountVectorizer\n",
    "import seaborn as sns\n",
    "\n",
    "def plot_the_commons(series, title='Most common words', n_features=20):\n",
    "    vec = CountVectorizer(stop_words='english').fit(series)\n",
    "    bag_of_words = vec.transform(series)\n",
    "    sum_words = bag_of_words.sum(axis=0)\n",
    "    words_freq = [(word, sum_words[0, idx]) for word, idx in vec.vocabulary_.items()]\n",
    "    words_freq = sorted(words_freq, key=lambda x: x[1], reverse=True)\n",
    "    top_words_df = pd.DataFrame(words_freq[:n_features])\n",
    "    top_words_df.columns = ['Word', 'Frequency']\n",
    "    sns.barplot(x='Frequency', y='Word', data=top_words_df)\n",
    "    plt.title(title)\n",
    "    plt.show()\n",
    "\n",
    "plot_the_commons(df_questions['question'], 'Most Common Words in Questions')\n",
    "\n",
    "plot_the_commons(df_choices['choice_choice'], 'Most Common Words in Choices')\n"
   ]
  },
  {
   "cell_type": "code",
   "execution_count": null,
   "id": "f3df4a50-6ec2-45ea-aa07-9a07071133d8",
   "metadata": {},
   "outputs": [],
   "source": [
    "df_choices"
   ]
  },
  {
   "cell_type": "code",
   "execution_count": null,
   "id": "98f37a8b-4c32-4489-b963-ff3c6e74711e",
   "metadata": {},
   "outputs": [],
   "source": []
  },
  {
   "cell_type": "code",
   "execution_count": null,
   "id": "5b5aad91-ab7b-44a3-8f54-1e5f47a8f907",
   "metadata": {},
   "outputs": [],
   "source": [
    "video_question_counts = df_questions['video_id'].value_counts()\n",
    "video_question_counts.plot(kind='bar')\n",
    "plt.title('Number of Questions per Video')\n",
    "plt.xlabel('Video ID')\n",
    "plt.ylabel('Number of Questions')\n",
    "plt.show()\n",
    "\n",
    "answer_video_pivot = df_questions.pivot_table(index='video_id', columns='answer', aggfunc='size', fill_value=0)\n",
    "sns.heatmap(answer_video_pivot, annot=True, cmap='Blues')\n",
    "plt.title('Heatmap of Answer Index by Video ID')\n",
    "plt.xlabel('Answer Index')\n",
    "plt.ylabel('Video ID')\n",
    "plt.show()"
   ]
  },
  {
   "cell_type": "code",
   "execution_count": null,
   "id": "d8215a9e-452d-4ef2-889a-8920f52096c2",
   "metadata": {},
   "outputs": [],
   "source": [
    "for entry in data:\n",
    "    entry['choices'] = [{'choice_id': idx, 'choice': option} for idx, option in enumerate(entry['options'])]\n",
    "    del entry['options']  \n",
    "\n",
    "df_questions = pd.json_normalize(data, sep='_')\n",
    "df_choices = pd.json_normalize(data, record_path='choices', meta=['question_id', 'video_id', 'question', 'answer'], record_prefix='choice_')"
   ]
  },
  {
   "cell_type": "code",
   "execution_count": null,
   "id": "31154f6e-7087-48c2-8b14-0ec1f7b0447d",
   "metadata": {},
   "outputs": [],
   "source": [
    "print(df_questions.info())\n",
    "print(df_questions.head())\n",
    "\n",
    "print(df_choices.info())\n",
    "print(df_choices.head())"
   ]
  },
  {
   "cell_type": "code",
   "execution_count": null,
   "id": "1627eec3-776f-4008-9fcc-d62840c1009c",
   "metadata": {},
   "outputs": [],
   "source": [
    "df_questions['answer'].value_counts().plot(kind='bar')\n",
    "plt.title('Frequency of Answer Indices')\n",
    "plt.xlabel('Answer Index')\n",
    "plt.ylabel('Count')\n",
    "plt.show()"
   ]
  },
  {
   "cell_type": "code",
   "execution_count": null,
   "id": "72956265-3d30-406b-ac16-dbad7574df4a",
   "metadata": {},
   "outputs": [],
   "source": [
    "from sklearn.feature_extraction.text import CountVectorizer\n",
    "import seaborn as sns\n",
    "\n",
    "def plot_most_common_words(series, title='Most common words', n_features=20):\n",
    "    vec = CountVectorizer(stop_words='english').fit(series)\n",
    "    bag_of_words = vec.transform(series)\n",
    "    sum_words = bag_of_words.sum(axis=0)\n",
    "    words_freq = [(word, sum_words[0, idx]) for word, idx in vec.vocabulary_.items()]\n",
    "    words_freq = sorted(words_freq, key=lambda x: x[1], reverse=True)\n",
    "    top_words_df = pd.DataFrame(words_freq[:n_features])\n",
    "    top_words_df.columns = ['Word', 'Frequency']\n",
    "    sns.barplot(x='Frequency', y='Word', data=top_words_df)\n",
    "    plt.title(title)\n",
    "    plt.show()\n",
    "\n",
    "plot_most_common_words(df_questions['question'], 'Most Common Words in Questions')\n",
    "\n",
    "plot_most_common_words(df_choices['choice_choice'], 'Most Common Words in Choices')"
   ]
  },
  {
   "cell_type": "code",
   "execution_count": null,
   "id": "46532ab8-7e1f-435f-8679-e23c43521365",
   "metadata": {},
   "outputs": [],
   "source": [
    "video_question_counts = df_questions['video_id'].value_counts()\n",
    "video_question_counts.plot(kind='bar')\n",
    "plt.title('Number of Questions per Video')\n",
    "plt.xlabel('Video ID')\n",
    "plt.ylabel('Number of Questions')\n",
    "plt.show()\n",
    "\n",
    "answer_video_pivot = df_questions.pivot_table(index='video_id', columns='answer', aggfunc='size', fill_value=0)\n",
    "sns.heatmap(answer_video_pivot, annot=True, cmap='Blues')\n",
    "plt.title('Heatmap of Answer Index by Video ID')\n",
    "plt.xlabel('Answer Index')\n",
    "plt.ylabel('Video ID')\n",
    "plt.show()"
   ]
  },
  {
   "cell_type": "code",
   "execution_count": null,
   "id": "fc0972c5-9299-439a-b821-cfd97facaaca",
   "metadata": {},
   "outputs": [],
   "source": [
    "\n",
    "df_choices['prefix'] = df_choices['question_id'].apply(lambda x: x.split('_')[0])\n",
    "\n",
    "prefix_counts = df_choices['prefix'].value_counts()\n",
    "\n",
    "print(prefix_counts)\n",
    "\n",
    "import matplotlib.pyplot as plt\n",
    "\n",
    "prefix_counts.plot(kind='bar')\n",
    "plt.title('Frequency of Question Types')\n",
    "plt.xlabel('Question Type')\n",
    "plt.ylabel('Count')\n",
    "plt.xticks(rotation=45)  \n",
    "plt.show()"
   ]
  },
  {
   "cell_type": "code",
   "execution_count": null,
   "id": "1088d0e7-007d-4738-80cf-b74672ddfe33",
   "metadata": {},
   "outputs": [],
   "source": [
    "df_choices"
   ]
  },
  {
   "cell_type": "code",
   "execution_count": null,
   "id": "dd19885f-0ed4-4b79-82f1-fc88f7e82bfa",
   "metadata": {},
   "outputs": [],
   "source": [
    "df_questions"
   ]
  },
  {
   "cell_type": "code",
   "execution_count": null,
   "id": "aaeded01-3649-4633-9016-ba9f8ed3cddb",
   "metadata": {},
   "outputs": [],
   "source": []
  }
 ],
 "metadata": {
  "kernelspec": {
   "display_name": "Python 3 (ipykernel)",
   "language": "python",
   "name": "python3"
  },
  "language_info": {
   "codemirror_mode": {
    "name": "ipython",
    "version": 3
   },
   "file_extension": ".py",
   "mimetype": "text/x-python",
   "name": "python",
   "nbconvert_exporter": "python",
   "pygments_lexer": "ipython3",
   "version": "3.10.11"
  }
 },
 "nbformat": 4,
 "nbformat_minor": 5
}
